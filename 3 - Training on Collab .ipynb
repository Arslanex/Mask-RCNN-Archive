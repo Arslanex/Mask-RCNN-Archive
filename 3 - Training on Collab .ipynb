{
 "nbformat": 4,
 "nbformat_minor": 0,
 "metadata": {
  "kernelspec": {
   "display_name": "Python 3",
   "language": "python",
   "name": "python3"
  },
  "language_info": {
   "codemirror_mode": {
    "name": "ipython",
    "version": 3
   },
   "file_extension": ".py",
   "mimetype": "text/x-python",
   "name": "python",
   "nbconvert_exporter": "python",
   "pygments_lexer": "ipython3",
   "version": "3.7.9"
  },
  "colab": {
   "name": "Train_Mask_RCNN.ipynb .ipynb adlı not defterinin kopyası",
   "provenance": [],
   "collapsed_sections": [],
   "toc_visible": true
  },
  "accelerator": "GPU"
 },
 "cells": [
  {
   "cell_type": "code",
   "metadata": {
    "id": "JvM9sdw3Vou_",
    "colab": {
     "base_uri": "https://localhost:8080/"
    },
    "outputId": "efcefb46-fa6f-4d0b-c002-b0147239f06a",
    "pycharm": {
     "is_executing": true
    }
   },
   "source": [
    "!nvidia-smi"
   ],
   "execution_count": null,
   "outputs": []
  },
  {
   "cell_type": "code",
   "execution_count": null,
   "outputs": [],
   "source": [
    "from google.colab import drive\n",
    "drive.mount('/content/drive')"
   ],
   "metadata": {
    "collapsed": false,
    "pycharm": {
     "name": "#%%\n",
     "is_executing": true
    }
   }
  },
  {
   "cell_type": "markdown",
   "source": [
    "## **1. Installation**\n",
    "\n",
    "Load your dataset"
   ],
   "metadata": {
    "collapsed": false
   }
  },
  {
   "cell_type": "code",
   "execution_count": null,
   "outputs": [],
   "source": [
    "%tensorflow_version 1.x\n",
    "!pip install --upgrade h5py==2.10.0\n",
    "!git clone https://github.com/pysource7/Mask_RCNN\n",
    "import sys\n",
    "sys.path.append(\"/content/Mask_RCNN/demo\")\n",
    "from train_mask_rcnn_pro import *\n",
    "%matplotlib inline"
   ],
   "metadata": {
    "collapsed": false,
    "pycharm": {
     "name": "#%%\n",
     "is_executing": true
    }
   }
  },
  {
   "cell_type": "markdown",
   "metadata": {
    "id": "Omb3Yl6ABqiJ"
   },
   "source": [
    "## **2. Image Dataset**\n",
    "\n",
    "Load your annotated dataset\n"
   ]
  },
  {
   "cell_type": "code",
   "metadata": {
    "id": "IlNYqGhvqb_p",
    "colab": {
     "base_uri": "https://localhost:8080/"
    },
    "outputId": "2acd8eb9-b8b5-4cef-9e51-967268efc6c6"
   },
   "source": [
    "# Extract Images\n",
    "images_path = \"/content/drive/MyDrive/data.zip\"\n",
    "annotations_path = \"/content/annotations.json\"\n",
    "\n",
    "extract_images(os.path.join(\"/content/\",images_path), \"/content/dataset\")"
   ],
   "execution_count": null,
   "outputs": [
    {
     "output_type": "stream",
     "name": "stdout",
     "text": [
      "Extracted: 102 images\n"
     ]
    }
   ]
  },
  {
   "cell_type": "code",
   "metadata": {
    "id": "MnW8ETPKzqFT",
    "colab": {
     "base_uri": "https://localhost:8080/"
    },
    "outputId": "fb7e27e6-9e75-4dc6-d334-121ecf139d32",
    "pycharm": {
     "is_executing": true
    }
   },
   "source": [
    "dataset_train = load_image_dataset(os.path.join(\"/content/\", annotations_path), \"/content/dataset\", \"train\")\n",
    "dataset_val = load_image_dataset(os.path.join(\"/content/\", annotations_path), \"/content/dataset\", \"val\")\n",
    "\n",
    "class_number = dataset_train.count_classes()\n",
    "\n",
    "print('Train: %d' % len(dataset_train.image_ids))\n",
    "print('Validation: %d' % len(dataset_val.image_ids))\n",
    "print(\"Classes: {}\".format(class_number))"
   ],
   "execution_count": null,
   "outputs": []
  },
  {
   "cell_type": "code",
   "metadata": {
    "id": "umeaqvVeBqiL",
    "colab": {
     "base_uri": "https://localhost:8080/",
     "height": 429
    },
    "outputId": "9d7cea7b-dbf8-4beb-cab2-0b236782c0cd",
    "pycharm": {
     "is_executing": true
    }
   },
   "source": [
    "# Load image samples\n",
    "display_image_samples(dataset_train)"
   ],
   "execution_count": null,
   "outputs": []
  },
  {
   "cell_type": "markdown",
   "metadata": {
    "id": "Z9k3Wm0_BqiN"
   },
   "source": [
    "##**3. Training**\n",
    "\n",
    "Train Mask RCNN on your custom Dataset."
   ]
  },
  {
   "cell_type": "code",
   "metadata": {
    "id": "axkqWaZ7z_4p",
    "colab": {
     "base_uri": "https://localhost:8080/"
    },
    "outputId": "f4a55c2e-4fb1-4dac-f13b-d54c18e4cf62",
    "pycharm": {
     "is_executing": true
    }
   },
   "source": [
    "# Load Configuration\n",
    "config = CustomConfig(class_number)\n",
    "#config.display()\n",
    "model = load_training_model(config,_)"
   ],
   "execution_count": null,
   "outputs": []
  },
  {
   "cell_type": "code",
   "metadata": {
    "scrolled": false,
    "id": "SyzLXzF5BqiN",
    "colab": {
     "base_uri": "https://localhost:8080/"
    },
    "outputId": "f558efd6-853f-4194-f1f9-9be9483495bf",
    "pycharm": {
     "is_executing": true
    }
   },
   "source": [
    "# Start Training\n",
    "# This operation might take a long time.\n",
    "train_head(model, dataset_train, dataset_train, config,5)"
   ],
   "execution_count": null,
   "outputs": []
  },
  {
   "cell_type": "markdown",
   "metadata": {
    "id": "6npLKIL3BqiO"
   },
   "source": [
    "## **4. Detection (test your model on a random image)**"
   ]
  },
  {
   "cell_type": "code",
   "metadata": {
    "id": "lUwXQ6h7BqiO",
    "colab": {
     "base_uri": "https://localhost:8080/"
    },
    "outputId": "db300d0c-5148-4b9e-be49-78bb366d436c",
    "pycharm": {
     "is_executing": true
    }
   },
   "source": [
    "# Load Test Model\n",
    "# The latest trained model will be loaded\n",
    "test_model, inference_config = load_test_model(class_number,_)"
   ],
   "execution_count": null,
   "outputs": []
  },
  {
   "cell_type": "code",
   "metadata": {
    "colab": {
     "base_uri": "https://localhost:8080/",
     "height": 1000
    },
    "id": "D-2_Kehr_T2G",
    "outputId": "02873fe3-c373-4edc-b755-e92d46433788",
    "pycharm": {
     "is_executing": true
    }
   },
   "source": [
    "test_random_image(test_model, dataset_val, inference_config)"
   ],
   "execution_count": null,
   "outputs": []
  },
  {
   "cell_type": "code",
   "metadata": {
    "colab": {
     "base_uri": "https://localhost:8080/"
    },
    "id": "H5OpiUKYGOgI",
    "outputId": "0a4b8160-e353-4bad-8476-7db822887236",
    "pycharm": {
     "is_executing": true
    }
   },
   "source": [
    "!python /content/Mask_RCNN/video_demo.py /content/drive/MyDrive/f1.mp4"
   ],
   "execution_count": null,
   "outputs": []
  },
  {
   "cell_type": "code",
   "metadata": {
    "colab": {
     "base_uri": "https://localhost:8080/",
     "height": 228
    },
    "id": "6fd5Si5mGnbb",
    "outputId": "7ff4f306-3c34-4c2e-ef6a-3c7da4d4ff4a",
    "pycharm": {
     "is_executing": true
    }
   },
   "source": [
    "import cv2\n",
    "import time\n",
    "capture = cv2.VideoCapture(\"/content/drive/MyDrive/f1.mp4\")\n",
    "width = int(capture.get(cv2.CAP_PROP_FRAME_WIDTH) + 0.5)\n",
    "height = int(capture.get(cv2.CAP_PROP_FRAME_HEIGHT) + 0.5)\n",
    "size = (height, width)\n",
    "fourcc = cv2.VideoWriter_fourcc(*'DIVX')\n",
    "# output_movie = cv2.VideoWriter('Zoo-video-masked.avi', fourcc, 30.0, (1920,1080))\n",
    "video = cv2.VideoWriter(\"Zoo_video_masked.avi\", cv2.VideoWriter_fourcc(*'DIVX'),fps, (1152, 1152))\n",
    "# Constructing code of the codec to be used in the function VideoWriter\n",
    "# writer = cv2.VideoWriter('Zoo-video-masked.mp4', fourcc, 20, (1920, 1080))\n",
    "count=0\n",
    "while True:\n",
    "    # Capture frame-by-frame\n",
    "    ret, frame = capture.read()\n",
    "    if not ret:\n",
    "        break\n",
    "\n",
    "    results = model.detect([frame], verbose=1)\n",
    "    r = results[0]\n",
    "\n",
    "    boxes = r['rois']\n",
    "    masks = r['masks']\n",
    "    class_ids = r['class_ids']\n",
    "    scores = r['scores']\n",
    "\n",
    "    # Run detection\n",
    "    start = time.time()\n",
    "    masked_image = vc.display_instances(frame, boxes, masks, class_ids, class_names, scores)\n",
    "    end = time.time()\n",
    "    print(\"Inference time: {:.2f}s\".format(end - start))\n",
    "\n",
    "    # Display the resulting frame\n",
    "    # cv2.imshow('', masked_image)\n",
    "    #save image\n",
    "    # writer = cv2.VideoWriter('Zoo-video-masked.mp4', fourcc, 30, (frame.shape[1], frame.shape[0]), True)\n",
    "    #we are saving the image as \"Masked-image.jpg under visualizeCustom code\"\n",
    "    #this image file we are writing inour videowriter object\n",
    "    print(\"here,\",type(masked_image))\n",
    "    img=cv2.imread(\"Masked-image.jpg\")\n",
    "    print(img.shape)\n",
    "    video.write(img)\n",
    "    # output_movie.write(masked_image)\n",
    "    count+=1\n",
    "    print(\"count:\",count)\n",
    "    # if cv2.waitKey(1) & 0xFF == ord('q'):\n",
    "    #     break\n",
    "\n",
    "# When everything done, release the capture\n",
    "print(\"WARNING\")\n",
    "cv2.destroyAllWindows()\n",
    "capture.release()\n",
    "video.release()\n",
    "# cv2.destroyAllWindows()"
   ],
   "execution_count": null,
   "outputs": []
  },
  {
   "cell_type": "code",
   "metadata": {
    "id": "XHnFYriDDXDj"
   },
   "source": [
    "\n",
    "# example of inference with a pre-trained coco model\n",
    "from keras.preprocessing.image import load_img\n",
    "from keras.preprocessing.image import img_to_array\n",
    "from mrcnn.visualize import display_instances\n",
    "from mrcnn.config import Config\n",
    "from mrcnn.model import MaskRCNN\n",
    " \n",
    "# define 81 classes that the coco model knowns about\n",
    "class_names = [\"ferrari\",\"mclaren,\",\"mercedes\",\"rebull\"]\n",
    " \n",
    "# define the test configuration\n",
    "class TestConfig(Config):\n",
    "     NAME = \"test\"\n",
    "     GPU_COUNT = 1\n",
    "     IMAGES_PER_GPU = 1\n",
    "     NUM_CLASSES = 1 + 4\n",
    " \n",
    "# define the model\n",
    "rcnn = MaskRCNN(mode='inference', model_dir='./', config=TestConfig())\n",
    "# load coco model weights\n",
    "rcnn.load_weights('/content/gdrive/MyDrive/pysource_mrcnn_pro/object20211027T2145/mask_rcnn_object_0005.h5', by_name=True)\n",
    "# load photograph\n",
    "img = load_img('/content/indir.jpg')\n",
    "img = img_to_array(img)\n",
    "# make prediction\n",
    "results = rcnn.detect([img], verbose=0)\n",
    "# get dictionary for first prediction\n",
    "r = results[0]\n",
    "# show photo with bounding boxes, masks, class labels and scores\n",
    "display_instances(img, r['rois'], r['masks'], r['class_ids'], class_names, r['scores'])"
   ],
   "execution_count": null,
   "outputs": []
  }
 ]
}