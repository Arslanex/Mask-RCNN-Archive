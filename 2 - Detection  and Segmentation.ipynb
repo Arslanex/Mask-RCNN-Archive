{
 "cells": [
  {
   "cell_type": "code",
   "execution_count": 1,
   "metadata": {
    "collapsed": true
   },
   "outputs": [],
   "source": [
    "import cv2 as cv\n",
    "import numpy as np"
   ]
  },
  {
   "cell_type": "code",
   "execution_count": 2,
   "outputs": [],
   "source": [
    "img = cv.imread(\"test.jpg\")\n",
    "height, width, _ = img.shape"
   ],
   "metadata": {
    "collapsed": false,
    "pycharm": {
     "name": "#%%\n"
    }
   }
  },
  {
   "cell_type": "code",
   "execution_count": 3,
   "outputs": [],
   "source": [
    "colors = np.random.randint(0, 255, (80, 3))"
   ],
   "metadata": {
    "collapsed": false,
    "pycharm": {
     "name": "#%%\n"
    }
   }
  },
  {
   "cell_type": "code",
   "execution_count": 4,
   "outputs": [],
   "source": [
    "black_image = np.zeros((height, width, 3), np.uint8)\n",
    "black_image[:] = (100, 100, 0)"
   ],
   "metadata": {
    "collapsed": false,
    "pycharm": {
     "name": "#%%\n"
    }
   }
  },
  {
   "cell_type": "code",
   "execution_count": 5,
   "outputs": [],
   "source": [
    "model = cv.dnn.readNetFromTensorflow(\"dnn/frozen_inference_graph_coco.pb\",\n",
    "\t                                 \"dnn/mask_rcnn_inception_v2_coco_2018_01_28.pbtxt\")"
   ],
   "metadata": {
    "collapsed": false,
    "pycharm": {
     "name": "#%%\n"
    }
   }
  },
  {
   "cell_type": "code",
   "execution_count": 6,
   "outputs": [],
   "source": [
    "blob = cv.dnn.blobFromImage(img, swapRB=True)\n",
    "model.setInput(blob)"
   ],
   "metadata": {
    "collapsed": false,
    "pycharm": {
     "name": "#%%\n"
    }
   }
  },
  {
   "cell_type": "code",
   "execution_count": 7,
   "outputs": [],
   "source": [
    "boxes, masks = model.forward([\"detection_out_final\", \"detection_masks\"])\n",
    "detection_count = boxes.shape[2]"
   ],
   "metadata": {
    "collapsed": false,
    "pycharm": {
     "name": "#%%\n"
    }
   }
  },
  {
   "cell_type": "code",
   "execution_count": 8,
   "outputs": [],
   "source": [
    "for i in range(detection_count):\n",
    "\tbox = boxes[0, 0, i]\n",
    "\tclass_id = box[1]\n",
    "\tscore = box[2]\n",
    "\tif score < 0.5:\n",
    "\t\tcontinue\n",
    "\n",
    "\t# Get box Coordinates\n",
    "\tx = int(box[3] * width)\n",
    "\ty = int(box[4] * height)\n",
    "\tx2 = int(box[5] * width)\n",
    "\ty2 = int(box[6] * height)\n",
    "\n",
    "\tcv.rectangle(img, (x, y), (x2, y2), (150, 100, 214), 1)\n",
    "\n",
    "\troi = black_image[y:y2, x:x2]\n",
    "\troi_height, roi_width, _ = roi.shape\n",
    "\n",
    "\t# Get the mask\n",
    "\tmask = masks[i, int(class_id)]\n",
    "\tmask = cv.resize(mask, (roi_width, roi_height))\n",
    "\t_, mask = cv.threshold(mask, 0.5, 255, cv.THRESH_BINARY)\n",
    "\n",
    "\n",
    "\t# Get mask coordinates\n",
    "\tcontours, _ = cv.findContours(np.array(mask, np.uint8), cv.RETR_EXTERNAL, cv.CHAIN_APPROX_SIMPLE)\n",
    "\tcolor = colors[int(class_id)]\n",
    "\tfor cnt in contours:\n",
    "\t\tcv.fillPoly(roi, [cnt], (int(color[0]), int(color[1]), int(color[2])))"
   ],
   "metadata": {
    "collapsed": false,
    "pycharm": {
     "name": "#%%\n"
    }
   }
  },
  {
   "cell_type": "code",
   "execution_count": 9,
   "outputs": [
    {
     "data": {
      "text/plain": "113"
     },
     "execution_count": 9,
     "metadata": {},
     "output_type": "execute_result"
    }
   ],
   "source": [
    "cv.imshow(\"Image\", img)\n",
    "cv.imshow(\"Black image\", black_image)\n",
    "cv.waitKey(0)"
   ],
   "metadata": {
    "collapsed": false,
    "pycharm": {
     "name": "#%%\n"
    }
   }
  }
 ],
 "metadata": {
  "kernelspec": {
   "display_name": "Python 3",
   "language": "python",
   "name": "python3"
  },
  "language_info": {
   "codemirror_mode": {
    "name": "ipython",
    "version": 2
   },
   "file_extension": ".py",
   "mimetype": "text/x-python",
   "name": "python",
   "nbconvert_exporter": "python",
   "pygments_lexer": "ipython2",
   "version": "2.7.6"
  }
 },
 "nbformat": 4,
 "nbformat_minor": 0
}