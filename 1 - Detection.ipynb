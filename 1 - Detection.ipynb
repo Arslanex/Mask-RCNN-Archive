{
 "cells": [
  {
   "cell_type": "markdown",
   "source": [
    "Gerekli python kütüphanelerini içe aktararak işe başlıyoruz.\n"
   ],
   "metadata": {
    "collapsed": false
   }
  },
  {
   "cell_type": "code",
   "execution_count": 1,
   "metadata": {
    "collapsed": true
   },
   "outputs": [],
   "source": [
    "import cv2 as cv"
   ]
  },
  {
   "cell_type": "markdown",
   "source": [
    "Modelin hazır dosyalarını kullanarak opencv yardımı ile mask-rcnn modelini oluşturuyoruz."
   ],
   "metadata": {
    "collapsed": false
   }
  },
  {
   "cell_type": "code",
   "execution_count": 2,
   "outputs": [],
   "source": [
    "model = cv.dnn.readNetFromTensorflow(\"dnn/frozen_inference_graph_coco.pb\",\n",
    "\t                                 \"dnn/mask_rcnn_inception_v2_coco_2018_01_28.pbtxt\")"
   ],
   "metadata": {
    "collapsed": false,
    "pycharm": {
     "name": "#%%\n"
    }
   }
  },
  {
   "cell_type": "markdown",
   "source": [
    "Test için kullanacağımız resimi içe aktarıyor ve en ve boy ölçülerini alıyoruz."
   ],
   "metadata": {
    "collapsed": false
   }
  },
  {
   "cell_type": "code",
   "execution_count": 3,
   "outputs": [],
   "source": [
    "img = cv.imread(\"test.jpg\")\n",
    "height, width = img.shape[:2]"
   ],
   "metadata": {
    "collapsed": false,
    "pycharm": {
     "name": "#%%\n"
    }
   }
  },
  {
   "cell_type": "markdown",
   "source": [
    "2.satırda resimin en ve boy ölçüleri aldık, bunun yapılma sebebi resimi tespit için modele gönderirken boyu küçültülür ve bu şekilde modele gönderilir. Bunun sonucu olarakta bounding box'lar küçük resime göre oranlara sahip olur. Bizde bu aldığımız bilgiler ile büyük resime göre yeniden oranlayacağız.\n",
    "\n",
    "Resimi blob formatına çeviriyor ve modelin içerisine gönderiyoruz."
   ],
   "metadata": {
    "collapsed": false
   }
  },
  {
   "cell_type": "code",
   "execution_count": 4,
   "outputs": [],
   "source": [
    "blob = cv.dnn.blobFromImage(img, swapRB=True)\n",
    "model.setInput(blob)"
   ],
   "metadata": {
    "collapsed": false,
    "pycharm": {
     "name": "#%%\n"
    }
   }
  },
  {
   "cell_type": "markdown",
   "source": [
    "forward() komutu ile modelden çıktilarımızı alıyoruz. Parantez içerisindeki değerler sabittir. Mask-RCNN modelinden iki çıktı döner. Bunlardan ilki tespit kutucukları yani bounding boxlar iken ikincisi bu cisimlerin maskeleridir. Bu kısımda herhangi bir maskeleme yapmayacağımız için sadece bounding box değerlerini çektik."
   ],
   "metadata": {
    "collapsed": false
   }
  },
  {
   "cell_type": "code",
   "execution_count": 5,
   "outputs": [],
   "source": [
    "boxes = model.forward([\"detection_out_final\", \"detection_masks\"])[0]"
   ],
   "metadata": {
    "collapsed": false,
    "pycharm": {
     "name": "#%%\n"
    }
   }
  },
  {
   "cell_type": "markdown",
   "source": [],
   "metadata": {
    "collapsed": false
   }
  },
  {
   "cell_type": "code",
   "execution_count": 6,
   "outputs": [],
   "source": [
    "detection_count = boxes.shape[2]"
   ],
   "metadata": {
    "collapsed": false,
    "pycharm": {
     "name": "#%%\n"
    }
   }
  },
  {
   "cell_type": "markdown",
   "source": [],
   "metadata": {
    "collapsed": false
   }
  },
  {
   "cell_type": "code",
   "execution_count": 7,
   "outputs": [],
   "source": [
    "for i in range(detection_count):\n",
    "\tbox = boxes[0, 0, i]\n",
    "\tclass_id = box[1]\n",
    "\tscore = box[2]\n",
    "\tif score < 0.5:\n",
    "\t\tcontinue\n",
    "\t\t\n",
    "\tx = int(box[3] * width)\n",
    "\ty = int(box[4] * height)\n",
    "\tx2 = int(box[5] * width)\n",
    "\ty2 = int(box[6] * height)\n",
    "\n",
    "\tcv.rectangle(img, (x, y), (x2, y2), (255, 0, 0), 1)"
   ],
   "metadata": {
    "collapsed": false,
    "pycharm": {
     "name": "#%%\n"
    }
   }
  },
  {
   "cell_type": "markdown",
   "source": [
    "Tüm işlemler sonladığına göre artık sonuçları göremke için resimi ekranda gösterebiliriz."
   ],
   "metadata": {
    "collapsed": false
   }
  },
  {
   "cell_type": "code",
   "execution_count": 9,
   "outputs": [],
   "source": [
    "cv.imshow(\"Image\", img)\n",
    "cv.waitKey(0)"
   ],
   "metadata": {
    "collapsed": false,
    "pycharm": {
     "name": "#%%\n"
    }
   }
  }
 ],
 "metadata": {
  "kernelspec": {
   "display_name": "Python 3",
   "language": "python",
   "name": "python3"
  },
  "language_info": {
   "codemirror_mode": {
    "name": "ipython",
    "version": 2
   },
   "file_extension": ".py",
   "mimetype": "text/x-python",
   "name": "python",
   "nbconvert_exporter": "python",
   "pygments_lexer": "ipython2",
   "version": "2.7.6"
  }
 },
 "nbformat": 4,
 "nbformat_minor": 0
}